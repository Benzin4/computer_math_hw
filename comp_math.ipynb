{
  "nbformat": 4,
  "nbformat_minor": 0,
  "metadata": {
    "colab": {
      "provenance": [],
      "authorship_tag": "ABX9TyOUjdFDwDu3RHK4MzVNI2uQ",
      "include_colab_link": true
    },
    "kernelspec": {
      "name": "python3",
      "display_name": "Python 3"
    },
    "language_info": {
      "name": "python"
    }
  },
  "cells": [
    {
      "cell_type": "markdown",
      "metadata": {
        "id": "view-in-github",
        "colab_type": "text"
      },
      "source": [
        "<a href=\"https://colab.research.google.com/github/Benzin4/computer_math_hw/blob/main/comp_math.ipynb\" target=\"_parent\"><img src=\"https://colab.research.google.com/assets/colab-badge.svg\" alt=\"Open In Colab\"/></a>"
      ]
    },
    {
      "cell_type": "code",
      "execution_count": null,
      "metadata": {
        "colab": {
          "base_uri": "https://localhost:8080/"
        },
        "id": "WoPgc8_y9wNd",
        "outputId": "087a6be8-4603-4ef3-e16e-4534b826a6df"
      },
      "outputs": [
        {
          "output_type": "stream",
          "name": "stdout",
          "text": [
            "1\n",
            "-3\n",
            "2\n",
            "x1 = 2.0 x2 = 1.0\n"
          ]
        }
      ],
      "source": [
        "import math\n",
        "\n",
        "a = int(input())\n",
        "b = int(input())\n",
        "c = int(input())\n",
        "\n",
        "def sq (a, b, c):\n",
        "    D = math.pow(b,2) - 4*a*c\n",
        "    if(D > 0):\n",
        "      x1 = (-b + math.sqrt(D))/2*a\n",
        "      x2 = (-b - math.sqrt(D))/2*a\n",
        "      print(\"x1 =\", x1, \"x2 =\", x2)\n",
        "    elif(D==0):\n",
        "      x = -b/2*a\n",
        "      print(\"Only solution:\", x)\n",
        "    else:\n",
        "      print(\"No solutions\")\n",
        "sq(a, b, c)\n"
      ]
    },
    {
      "cell_type": "code",
      "source": [
        "import math\n",
        "\n",
        "a = int(input())\n",
        "b = int(input())\n",
        "n = int(input())\n",
        "\n",
        "def f1 (x):\n",
        "  return(math.pow(x,2))\n",
        "\n",
        "def f2 (x):\n",
        "  return(math.sin(x))\n",
        "\n",
        "def trapezoidal_integral(f, a, b, n):\n",
        "  h = (b-a)/n\n",
        "  integral = (f(a)+f(b)/2)*h\n",
        "  i = a+h\n",
        "  while i < b:\n",
        "    integral+=f(i)*h\n",
        "    i+=h\n",
        "  return(integral)\n",
        "\n",
        "print(\"function 1 =\", trapezoidal_integral(f1, a, b, n))\n",
        "print(\"function 2 =\", trapezoidal_integral(f2, a, math.pi, n))"
      ],
      "metadata": {
        "colab": {
          "base_uri": "https://localhost:8080/"
        },
        "id": "VYhD6LbaCbRx",
        "outputId": "d1d7e74b-b8d2-4076-a3ab-1bc1197d63c8"
      },
      "execution_count": null,
      "outputs": [
        {
          "output_type": "stream",
          "name": "stdout",
          "text": [
            "0\n",
            "1\n",
            "100\n",
            "function 1 0.33335000000000037\n",
            "function 2 1.9998355038874456\n"
          ]
        }
      ]
    },
    {
      "cell_type": "code",
      "source": [
        "import math\n",
        "\n",
        "a = int(input())\n",
        "b = int(input())\n",
        "n = int(input())\n",
        "\n",
        "def f(x):\n",
        "  return(math.pow(x, 3))"
      ],
      "metadata": {
        "id": "-JumpLuhLrmD"
      },
      "execution_count": null,
      "outputs": []
    }
  ]
}