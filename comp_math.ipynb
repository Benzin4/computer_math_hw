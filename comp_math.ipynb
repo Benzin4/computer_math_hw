{
  "nbformat": 4,
  "nbformat_minor": 0,
  "metadata": {
    "colab": {
      "provenance": [],
      "authorship_tag": "ABX9TyPGI7D8VlwIRYSfFXPXnlQW",
      "include_colab_link": true
    },
    "kernelspec": {
      "name": "python3",
      "display_name": "Python 3"
    },
    "language_info": {
      "name": "python"
    }
  },
  "cells": [
    {
      "cell_type": "markdown",
      "metadata": {
        "id": "view-in-github",
        "colab_type": "text"
      },
      "source": [
        "<a href=\"https://colab.research.google.com/github/Benzin4/computer_math_hw/blob/main/comp_math.ipynb\" target=\"_parent\"><img src=\"https://colab.research.google.com/assets/colab-badge.svg\" alt=\"Open In Colab\"/></a>"
      ]
    },
    {
      "cell_type": "code",
      "execution_count": null,
      "metadata": {
        "colab": {
          "base_uri": "https://localhost:8080/"
        },
        "id": "WoPgc8_y9wNd",
        "outputId": "087a6be8-4603-4ef3-e16e-4534b826a6df"
      },
      "outputs": [
        {
          "output_type": "stream",
          "name": "stdout",
          "text": [
            "1\n",
            "-3\n",
            "2\n",
            "x1 = 2.0 x2 = 1.0\n"
          ]
        }
      ],
      "source": [
        "#Task 1\n",
        "\n",
        "import math\n",
        "\n",
        "a = int(input())\n",
        "b = int(input())\n",
        "c = int(input())\n",
        "\n",
        "def sq (a, b, c):\n",
        "    D = math.pow(b,2) - 4*a*c\n",
        "    if(D > 0):\n",
        "      x1 = (-b + math.sqrt(D))/2*a\n",
        "      x2 = (-b - math.sqrt(D))/2*a\n",
        "      print(\"x1 =\", x1, \"x2 =\", x2)\n",
        "    elif(D==0):\n",
        "      x = -b/2*a\n",
        "      print(\"Only solution:\", x)\n",
        "    else:\n",
        "      print(\"No solutions\")\n",
        "sq(a, b, c)\n"
      ]
    },
    {
      "cell_type": "code",
      "source": [
        "#Task 2\n",
        "\n",
        "import math\n",
        "\n",
        "a = int(input())\n",
        "b = int(input())\n",
        "n = int(input())\n",
        "\n",
        "def f1 (x):\n",
        "  return(math.pow(x,2))\n",
        "\n",
        "def f2 (x):\n",
        "  return(math.sin(x))\n",
        "\n",
        "def trapezoidal_integral(f, a, b, n):\n",
        "  h = (b-a)/n\n",
        "  integral = (f(a)+f(b)/2)*h\n",
        "  i = a+h\n",
        "  while i < b:\n",
        "    integral+=f(i)*h\n",
        "    i+=h\n",
        "  return(integral)\n",
        "\n",
        "print(\"function 1 =\", trapezoidal_integral(f1, a, b, n))\n",
        "print(\"function 2 =\", trapezoidal_integral(f2, a, math.pi, n))"
      ],
      "metadata": {
        "colab": {
          "base_uri": "https://localhost:8080/"
        },
        "id": "VYhD6LbaCbRx",
        "outputId": "d1d7e74b-b8d2-4076-a3ab-1bc1197d63c8"
      },
      "execution_count": null,
      "outputs": [
        {
          "output_type": "stream",
          "name": "stdout",
          "text": [
            "0\n",
            "1\n",
            "100\n",
            "function 1 0.33335000000000037\n",
            "function 2 1.9998355038874456\n"
          ]
        }
      ]
    },
    {
      "cell_type": "code",
      "source": [
        "#Task 3\n",
        "\n",
        "import math\n",
        "\n",
        "a = int(input())\n",
        "b = int(input())\n",
        "n = float(input())\n",
        "\n",
        "def f(x):\n",
        "  return(math.pow(x, 3) - x - 2)\n",
        "\n",
        "def bisection_method(f, a, b, n):\n",
        "  if(f(a) * f(b) >= 0):\n",
        "    print(\"No solutions\")\n",
        "  else:\n",
        "    while(b - a > n):\n",
        "      c = (a + b) / 2\n",
        "      if (f(c) == 0 or c < n): return(c)\n",
        "      elif (f(a) * f(c) < 0): b = c\n",
        "      else: a = c\n",
        "    return(c)\n",
        "\n",
        "\n",
        "\n",
        "\n",
        "\n",
        "print(bisection_method(f, a, b, n))\n"
      ],
      "metadata": {
        "id": "-JumpLuhLrmD",
        "outputId": "90f5e0f1-ec09-486e-9db9-369a7e3861c1",
        "colab": {
          "base_uri": "https://localhost:8080/"
        }
      },
      "execution_count": null,
      "outputs": [
        {
          "output_type": "stream",
          "name": "stdout",
          "text": [
            "1\n",
            "2\n",
            "0.001\n",
            "1.5205078125\n"
          ]
        }
      ]
    },
    {
      "cell_type": "code",
      "source": [
        "#Task 4\n",
        "\n",
        "import math\n",
        "\n",
        "P = int(input())\n",
        "r = float(input())\n",
        "t = int(input())\n",
        "\n",
        "def A(P, r, t):\n",
        "  A = P * math.exp(r*t)\n",
        "  return(A)\n",
        "\n",
        "print(f\"{A(P, r, t):.2f}\")"
      ],
      "metadata": {
        "id": "_Ugn701N7lP6",
        "outputId": "4cc3e3e9-80d0-4c26-ffc4-9fe285f3353e",
        "colab": {
          "base_uri": "https://localhost:8080/"
        }
      },
      "execution_count": null,
      "outputs": [
        {
          "output_type": "stream",
          "name": "stdout",
          "text": [
            "10000\n",
            "0.05\n",
            "2\n",
            "11051.71\n"
          ]
        }
      ]
    },
    {
      "cell_type": "code",
      "source": [
        "#Task 5\n",
        "\n",
        "import math\n",
        "\n",
        "P = int(input())\n",
        "A = float(input())\n",
        "t = int(input())\n",
        "\n",
        "def r(P, A, t):\n",
        "  r = 1/t * math.log(A/P)\n",
        "\n",
        "  return(r)\n",
        "\n",
        "print(f\"{r(P, A, t):.2%}\")"
      ],
      "metadata": {
        "colab": {
          "base_uri": "https://localhost:8080/"
        },
        "id": "PlTXbnkS98Qq",
        "outputId": "1d88145d-dbb2-45b1-be67-d98986be9fd8"
      },
      "execution_count": null,
      "outputs": [
        {
          "output_type": "stream",
          "name": "stdout",
          "text": [
            "10000\n",
            "11051.71\n",
            "2\n",
            "5.00%\n"
          ]
        }
      ]
    },
    {
      "cell_type": "code",
      "source": [
        "#Task 6\n",
        "\n",
        "import math\n",
        "\n",
        "def sqrt_newton_method(a, epsilon = 1e-10):\n",
        "  x = a\n",
        "  next_x  = 0.5 * (x + a / x)\n",
        "  while True:\n",
        "    next_x  = 0.5 * (x + a / x)\n",
        "    if (abs(x - next_x) < epsilon): return(x)\n",
        "    else: x = next_x\n",
        "  return(x)\n",
        "\n",
        "def main():\n",
        "  a = int(input())\n",
        "  print(sqrt_newton_method(a))\n",
        "  print(math.sqrt(a))\n",
        "  print(f\"Difference: {sqrt_newton_method(a) - math.sqrt(a)}\")\n",
        "\n",
        "\n",
        "main()"
      ],
      "metadata": {
        "colab": {
          "base_uri": "https://localhost:8080/"
        },
        "id": "GP9qQjSU_Vwm",
        "outputId": "87343235-1a5a-4742-ce87-5c078f94d2e3"
      },
      "execution_count": null,
      "outputs": [
        {
          "output_type": "stream",
          "name": "stdout",
          "text": [
            "2\n",
            "1.4142135623746899\n",
            "1.4142135623730951\n",
            "Difference: 1.5947243525715749e-12\n"
          ]
        }
      ]
    },
    {
      "cell_type": "code",
      "source": [
        "#Task 7\n",
        "\n",
        "import math\n",
        "\n",
        "def len(x, y):\n",
        "  length = math.sqrt(math.pow(x, 2) + math.pow(y, 2))\n",
        "  return(length)\n",
        "\n",
        "def angle(x1, y1, x2, y2):\n",
        "  angle = math.acos((x1 * x2 + y1 * y2) / (len(x1, y1) * len(x2, y2)))\n",
        "  return(math.degrees(angle))\n",
        "\n",
        "print(f\"{angle(3, 0, 0, 4)}\")\n",
        "print(f\"{angle(5, 5, 5, 5)}\")\n",
        "print(f\"{angle(2, 3, 4, -1)}\")\n",
        "\n",
        "\n"
      ],
      "metadata": {
        "colab": {
          "base_uri": "https://localhost:8080/"
        },
        "id": "cr3JWmStJXBI",
        "outputId": "1e081559-17d0-4cb2-ba2c-e49c61c0959f"
      },
      "execution_count": null,
      "outputs": [
        {
          "output_type": "stream",
          "name": "stdout",
          "text": [
            "90.0\n",
            "8.537736462515939e-07\n",
            "70.3461759419467\n"
          ]
        }
      ]
    },
    {
      "cell_type": "code",
      "source": [
        "#Task 8\n",
        "\n",
        "import math\n",
        "\n",
        "def P (R, theta):\n",
        "  x = R * math.cos(math.radians(theta))\n",
        "  y = R * math.sin(math.radians(theta))\n",
        "  return(x, y)\n",
        "\n",
        "print(f\"Coordinates 1: {P(5, 45)}\")\n",
        "print(f\"Coordinates 2: {P(10, 90)}\")\n",
        "print(f\"Coordinates 3: {P(1, 0)}\")\n"
      ],
      "metadata": {
        "colab": {
          "base_uri": "https://localhost:8080/"
        },
        "id": "qpksRBi6LtQY",
        "outputId": "d129bcac-f92e-4f60-df16-e9aef8453b0f"
      },
      "execution_count": null,
      "outputs": [
        {
          "output_type": "stream",
          "name": "stdout",
          "text": [
            "Coordinates 1: (3.5355339059327378, 3.5355339059327373)\n",
            "Coordinates 2: (6.123233995736766e-16, 10.0)\n",
            "Coordinates 3: (1.0, 0.0)\n"
          ]
        }
      ]
    },
    {
      "cell_type": "code",
      "source": [
        "#Task 9\n",
        "\n",
        "import math\n",
        "\n",
        "def P (x):\n",
        "  P = 0.5 * (math.erf(x / math.sqrt(2)) - math.erf(-x / math.sqrt(2)))\n",
        "  return(P)\n",
        "\n",
        "print(f\"probability 1: {P(1)}\")\n",
        "print(f\"probability 2: {P(2)}\")\n",
        "print(f\"probability 2: {P(0)}\")"
      ],
      "metadata": {
        "colab": {
          "base_uri": "https://localhost:8080/"
        },
        "id": "6v7BefKGN0tQ",
        "outputId": "bb287dc9-479f-454d-db62-14ed11600263"
      },
      "execution_count": null,
      "outputs": [
        {
          "output_type": "stream",
          "name": "stdout",
          "text": [
            "probability 1: 0.6826894921370859\n",
            "probability 2: 0.9544997361036416\n",
            "probability 2: 0.0\n"
          ]
        }
      ]
    },
    {
      "cell_type": "code",
      "source": [
        "#Task 10\n",
        "\n",
        "import math\n",
        "\n",
        "def func(n, R):\n",
        "  V = 0\n",
        "  V = (math.pow(math.pi, (n/2)) * math.pow(R, n)) / math.gamma(n / 2 + 1)\n",
        "  return(V)\n",
        "\n",
        "print(f\"volume 1: {func(2, 1)}\")\n",
        "print(f\"volume 2: {func(3, 1)}\")\n",
        "print(f\"volume 3: {func(10, 2)}\")\n"
      ],
      "metadata": {
        "colab": {
          "base_uri": "https://localhost:8080/"
        },
        "id": "ZW3YlnbtPJUU",
        "outputId": "7363f8cc-38e1-485d-fd98-a631cdf3d9bf"
      },
      "execution_count": null,
      "outputs": [
        {
          "output_type": "stream",
          "name": "stdout",
          "text": [
            "volume 1: 3.141592653589793\n",
            "volume 2: 4.1887902047863905\n",
            "volume 3: 2611.3679768344014\n"
          ]
        }
      ]
    },
    {
      "cell_type": "code",
      "source": [
        "import math\n",
        "\n",
        "def calculate_angle(a):\n",
        "  deg = (math.pi * a) / 180\n",
        "  return((math.sin(deg)))\n",
        "\n",
        "def calculate_pressure (P):\n",
        "  Peff = (math.exp(-P/101325))\n",
        "  return(Peff)\n",
        "\n",
        "def calculate_intensity (a, I, P):\n",
        "  Isval = I * calculate_angle(a) * math.log(calculate_pressure(P) + 1)\n",
        "  return(round(Isval, 2))\n",
        "\n",
        "def compare(Isval):\n",
        "  if(Isval <= 0): print(f\"{Isval} - No liquid water\")\n",
        "  else: print(f\"{Isval} - Liquid water exists\")\n",
        "\n",
        "compare(calculate_intensity(45, 1361, 101325))\n",
        "compare(calculate_intensity(187, 6500, 101325))\n",
        "compare(calculate_intensity(210, 24000, 101325))"
      ],
      "metadata": {
        "colab": {
          "base_uri": "https://localhost:8080/"
        },
        "id": "6tNgJoXCiIsl",
        "outputId": "45dfdab1-5dbf-4d40-e4cf-c92539ff2f76"
      },
      "execution_count": 11,
      "outputs": [
        {
          "output_type": "stream",
          "name": "stdout",
          "text": [
            "301.47 - Liquid water exists\n",
            "-248.15 - No liquid water\n",
            "-3759.14 - No liquid water\n"
          ]
        }
      ]
    }
  ]
}